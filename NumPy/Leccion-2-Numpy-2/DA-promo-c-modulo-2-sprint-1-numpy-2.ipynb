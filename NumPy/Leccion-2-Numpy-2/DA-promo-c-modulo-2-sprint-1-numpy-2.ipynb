{
 "cells": [
  {
   "cell_type": "code",
   "execution_count": 1,
   "metadata": {},
   "outputs": [],
   "source": [
    "import numpy as np"
   ]
  },
  {
   "cell_type": "markdown",
   "metadata": {},
   "source": [
    "1. Cread un array de dos dimensiones de 5 filas y 3 columnas. Sobre el array creado anteriormente, extraed:\n",
    "- El valor de la primera fila y la segunda columna."
   ]
  },
  {
   "cell_type": "code",
   "execution_count": 7,
   "metadata": {},
   "outputs": [
    {
     "data": {
      "text/plain": [
       "array([[0.95666633, 0.00373514, 0.37219223],\n",
       "       [0.06835723, 0.07337029, 0.7071743 ],\n",
       "       [0.80347646, 0.86214162, 0.15553448],\n",
       "       [0.98926936, 0.61657518, 0.07589783],\n",
       "       [0.84366774, 0.12257471, 0.31173096]])"
      ]
     },
     "execution_count": 7,
     "metadata": {},
     "output_type": "execute_result"
    }
   ],
   "source": [
    "array1 = np.random.rand(5,3)\n",
    "array1"
   ]
  },
  {
   "cell_type": "code",
   "execution_count": 8,
   "metadata": {},
   "outputs": [
    {
     "data": {
      "text/plain": [
       "0.003735141243536799"
      ]
     },
     "execution_count": 8,
     "metadata": {},
     "output_type": "execute_result"
    }
   ],
   "source": [
    "array1[0,1]"
   ]
  },
  {
   "cell_type": "markdown",
   "metadata": {},
   "source": [
    "- Los valores de la segunda fila y las dos primeras columnas."
   ]
  },
  {
   "cell_type": "code",
   "execution_count": 9,
   "metadata": {},
   "outputs": [
    {
     "data": {
      "text/plain": [
       "array([0.06835723, 0.07337029])"
      ]
     },
     "execution_count": 9,
     "metadata": {},
     "output_type": "execute_result"
    }
   ],
   "source": [
    "array1[1,:2]"
   ]
  },
  {
   "cell_type": "markdown",
   "metadata": {},
   "source": [
    "- Extraed las filas pares (incluyendo la 0) y todas las columnas."
   ]
  },
  {
   "cell_type": "code",
   "execution_count": 10,
   "metadata": {},
   "outputs": [
    {
     "data": {
      "text/plain": [
       "array([[0.95666633, 0.00373514, 0.37219223],\n",
       "       [0.80347646, 0.86214162, 0.15553448],\n",
       "       [0.84366774, 0.12257471, 0.31173096]])"
      ]
     },
     "execution_count": 10,
     "metadata": {},
     "output_type": "execute_result"
    }
   ],
   "source": [
    "array1[::2,:]"
   ]
  },
  {
   "cell_type": "markdown",
   "metadata": {},
   "source": [
    "- Extraed los valores que sean mayores que 0.5."
   ]
  },
  {
   "cell_type": "code",
   "execution_count": 11,
   "metadata": {},
   "outputs": [
    {
     "data": {
      "text/plain": [
       "array([0.95666633, 0.7071743 , 0.80347646, 0.86214162, 0.98926936,\n",
       "       0.61657518, 0.84366774])"
      ]
     },
     "execution_count": 11,
     "metadata": {},
     "output_type": "execute_result"
    }
   ],
   "source": [
    "array1[(array1 > 0.5)]"
   ]
  },
  {
   "cell_type": "markdown",
   "metadata": {},
   "source": [
    "- Extraed los valores menores que 0.2 o mayores que 0.5"
   ]
  },
  {
   "cell_type": "code",
   "execution_count": 12,
   "metadata": {},
   "outputs": [
    {
     "data": {
      "text/plain": [
       "array([0.95666633, 0.00373514, 0.06835723, 0.07337029, 0.7071743 ,\n",
       "       0.80347646, 0.86214162, 0.15553448, 0.98926936, 0.61657518,\n",
       "       0.07589783, 0.84366774, 0.12257471])"
      ]
     },
     "execution_count": 12,
     "metadata": {},
     "output_type": "execute_result"
    }
   ],
   "source": [
    "array1[(array1 < 0.2) | (array1 > 0.5)]"
   ]
  },
  {
   "cell_type": "markdown",
   "metadata": {},
   "source": [
    "2. Cread dos array de tres dimensiones:\n",
    "- El primero de 2 matrices, 5 filas y 3 columnas."
   ]
  },
  {
   "cell_type": "code",
   "execution_count": 13,
   "metadata": {},
   "outputs": [
    {
     "data": {
      "text/plain": [
       "array([[[97,  4, 35],\n",
       "        [12, 33, 14],\n",
       "        [28, 36, 62],\n",
       "        [73, 76, 86],\n",
       "        [54, 13, 64]],\n",
       "\n",
       "       [[10,  8, 56],\n",
       "        [47, 62, 86],\n",
       "        [15, 21, 38],\n",
       "        [66,  1, 95],\n",
       "        [ 9, 55, 78]]])"
      ]
     },
     "execution_count": 13,
     "metadata": {},
     "output_type": "execute_result"
    }
   ],
   "source": [
    "array2 = np.random.randint(0,100, (2,5,3))\n",
    "array2"
   ]
  },
  {
   "cell_type": "markdown",
   "metadata": {},
   "source": [
    "- El segundo de 3 matrices, 2 filas y 5 columnas"
   ]
  },
  {
   "cell_type": "code",
   "execution_count": 14,
   "metadata": {},
   "outputs": [
    {
     "data": {
      "text/plain": [
       "array([[[61, 15, 20, 87, 23],\n",
       "        [ 0, 97, 17, 33, 14]],\n",
       "\n",
       "       [[89, 63, 17, 67, 73],\n",
       "        [44, 30, 58, 75, 65]],\n",
       "\n",
       "       [[29, 63, 14, 76, 80],\n",
       "        [49, 48, 68, 72,  0]]])"
      ]
     },
     "execution_count": 14,
     "metadata": {},
     "output_type": "execute_result"
    }
   ],
   "source": [
    "array3 = np.random.randint(0,100, (3,2,5))\n",
    "array3"
   ]
  },
  {
   "cell_type": "markdown",
   "metadata": {},
   "source": [
    "- Haced un análisis exploratorio de los array creados. Recordad que en el ejercicio de ayer nos creamos una función para esto."
   ]
  },
  {
   "cell_type": "code",
   "execution_count": 15,
   "metadata": {},
   "outputs": [],
   "source": [
    "def propiedades(array):\n",
    "    lista_propiedades = []\n",
    "    lista_propiedades.append(array.shape)\n",
    "    lista_propiedades.append(array.size)\n",
    "    lista_propiedades.append(array.ndim)\n",
    "    lista_propiedades.append(array.dtype)\n",
    "    return lista_propiedades"
   ]
  },
  {
   "cell_type": "code",
   "execution_count": 18,
   "metadata": {},
   "outputs": [
    {
     "name": "stdout",
     "output_type": "stream",
     "text": [
      "El orden de las propiedades descritas, es forma, tamaño, dimension y tipo: [(2, 5, 3), 30, 3, dtype('int64')]\n"
     ]
    }
   ],
   "source": [
    "print(f\"El orden de las propiedades descritas, es forma, tamaño, dimension y tipo:\", propiedades(array2))"
   ]
  },
  {
   "cell_type": "code",
   "execution_count": 19,
   "metadata": {},
   "outputs": [
    {
     "name": "stdout",
     "output_type": "stream",
     "text": [
      "El orden de las propiedades descritas, es forma, tamaño, dimension y tipo: [(3, 2, 5), 30, 3, dtype('int64')]\n"
     ]
    }
   ],
   "source": [
    "print(f\"El orden de las propiedades descritas, es forma, tamaño, dimension y tipo:\", propiedades(array3))"
   ]
  },
  {
   "cell_type": "markdown",
   "metadata": {},
   "source": [
    "- Sumad los dos arrays. ¿Podéis? ¿Por qué?"
   ]
  },
  {
   "cell_type": "code",
   "execution_count": 20,
   "metadata": {},
   "outputs": [
    {
     "ename": "ValueError",
     "evalue": "operands could not be broadcast together with shapes (2,5,3) (3,2,5) ",
     "output_type": "error",
     "traceback": [
      "\u001b[0;31m---------------------------------------------------------------------------\u001b[0m",
      "\u001b[0;31mValueError\u001b[0m                                Traceback (most recent call last)",
      "Cell \u001b[0;32mIn [20], line 1\u001b[0m\n\u001b[0;32m----> 1\u001b[0m np\u001b[39m.\u001b[39;49madd(array2, array3)\n",
      "\u001b[0;31mValueError\u001b[0m: operands could not be broadcast together with shapes (2,5,3) (3,2,5) "
     ]
    }
   ],
   "source": [
    "np.add(array2, array3)"
   ]
  },
  {
   "cell_type": "markdown",
   "metadata": {},
   "source": [
    "No podemos sumarlos ya que como vemos en el paso anterior tienen distinta forma, (2,5,3) y (3,2,5)"
   ]
  },
  {
   "cell_type": "markdown",
   "metadata": {},
   "source": [
    "- Para cambiar la forma de un array y poder hacer operaciones entre arrays que tienen distintas formas hemos aprendido dos métodos:\n",
    ".reshape()"
   ]
  },
  {
   "cell_type": "code",
   "execution_count": 21,
   "metadata": {},
   "outputs": [
    {
     "data": {
      "text/plain": [
       "array([[[61, 15, 20],\n",
       "        [87, 23,  0],\n",
       "        [97, 17, 33],\n",
       "        [14, 89, 63],\n",
       "        [17, 67, 73]],\n",
       "\n",
       "       [[44, 30, 58],\n",
       "        [75, 65, 29],\n",
       "        [63, 14, 76],\n",
       "        [80, 49, 48],\n",
       "        [68, 72,  0]]])"
      ]
     },
     "execution_count": 21,
     "metadata": {},
     "output_type": "execute_result"
    }
   ],
   "source": [
    "array4 = array3.reshape(2,5,3)\n",
    "array4"
   ]
  },
  {
   "cell_type": "code",
   "execution_count": 22,
   "metadata": {},
   "outputs": [
    {
     "data": {
      "text/plain": [
       "array([[[158,  19,  55],\n",
       "        [ 99,  56,  14],\n",
       "        [125,  53,  95],\n",
       "        [ 87, 165, 149],\n",
       "        [ 71,  80, 137]],\n",
       "\n",
       "       [[ 54,  38, 114],\n",
       "        [122, 127, 115],\n",
       "        [ 78,  35, 114],\n",
       "        [146,  50, 143],\n",
       "        [ 77, 127,  78]]])"
      ]
     },
     "execution_count": 22,
     "metadata": {},
     "output_type": "execute_result"
    }
   ],
   "source": [
    "np.add(array2, array4)"
   ]
  },
  {
   "cell_type": "markdown",
   "metadata": {},
   "source": [
    ".transpose()\n",
    "Utiliza estas dos funciones para cambiar la forma de los array y hacer operaciones entre ellos."
   ]
  },
  {
   "cell_type": "code",
   "execution_count": 24,
   "metadata": {},
   "outputs": [
    {
     "data": {
      "text/plain": [
       "array([[[61, 89, 29],\n",
       "        [15, 63, 63],\n",
       "        [20, 17, 14],\n",
       "        [87, 67, 76],\n",
       "        [23, 73, 80]],\n",
       "\n",
       "       [[ 0, 44, 49],\n",
       "        [97, 30, 48],\n",
       "        [17, 58, 68],\n",
       "        [33, 75, 72],\n",
       "        [14, 65,  0]]])"
      ]
     },
     "execution_count": 24,
     "metadata": {},
     "output_type": "execute_result"
    }
   ],
   "source": [
    "array5 = np.transpose(array3, (1,2,0))\n",
    "array5"
   ]
  },
  {
   "cell_type": "code",
   "execution_count": 25,
   "metadata": {},
   "outputs": [
    {
     "data": {
      "text/plain": [
       "array([[[158,  93,  64],\n",
       "        [ 27,  96,  77],\n",
       "        [ 48,  53,  76],\n",
       "        [160, 143, 162],\n",
       "        [ 77,  86, 144]],\n",
       "\n",
       "       [[ 10,  52, 105],\n",
       "        [144,  92, 134],\n",
       "        [ 32,  79, 106],\n",
       "        [ 99,  76, 167],\n",
       "        [ 23, 120,  78]]])"
      ]
     },
     "execution_count": 25,
     "metadata": {},
     "output_type": "execute_result"
    }
   ],
   "source": [
    "np.add(array2, array5)"
   ]
  }
 ],
 "metadata": {
  "kernelspec": {
   "display_name": "Python 3.9.7 ('base')",
   "language": "python",
   "name": "python3"
  },
  "language_info": {
   "codemirror_mode": {
    "name": "ipython",
    "version": 3
   },
   "file_extension": ".py",
   "mimetype": "text/x-python",
   "name": "python",
   "nbconvert_exporter": "python",
   "pygments_lexer": "ipython3",
   "version": "3.9.7"
  },
  "orig_nbformat": 4,
  "vscode": {
   "interpreter": {
    "hash": "6e8aefa1bb798882dbdb84db5119449300b1df017c6fd8f01a2c188a17dff6eb"
   }
  }
 },
 "nbformat": 4,
 "nbformat_minor": 2
}

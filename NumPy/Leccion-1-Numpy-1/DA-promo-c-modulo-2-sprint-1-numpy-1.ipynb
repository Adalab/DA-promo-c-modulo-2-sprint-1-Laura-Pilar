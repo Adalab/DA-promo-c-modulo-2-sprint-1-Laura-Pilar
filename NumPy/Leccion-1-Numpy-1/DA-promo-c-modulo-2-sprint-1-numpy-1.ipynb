{
 "cells": [
  {
   "cell_type": "markdown",
   "metadata": {},
   "source": [
    "# Introducción a NumPy I"
   ]
  },
  {
   "cell_type": "code",
   "execution_count": 2,
   "metadata": {},
   "outputs": [],
   "source": [
    "import numpy as np"
   ]
  },
  {
   "cell_type": "markdown",
   "metadata": {},
   "source": [
    "### 1. Cread tres arrays: de una, dos y tres dimensiones.\n",
    "   \n",
    "Lo podéis hacer usando los métodos de random que hemos aprendido o a través de listas em algunos casos.\n",
    "\n",
    "📌 Nota\n",
    "\n",
    "El array de 2 dimensiones debe ser de 2 filas y 3 columnas\n",
    "\n",
    "El array de 3 dimensiones debe ser de 2 matrices, 3 filas y 5 columnas"
   ]
  },
  {
   "cell_type": "code",
   "execution_count": 3,
   "metadata": {},
   "outputs": [
    {
     "data": {
      "text/plain": [
       "array([38, 92, 20, 49, 97, 20, 72,  2])"
      ]
     },
     "execution_count": 3,
     "metadata": {},
     "output_type": "execute_result"
    }
   ],
   "source": [
    "array1 = np.random.randint(0,100, (8))\n",
    "array1"
   ]
  },
  {
   "cell_type": "code",
   "execution_count": 4,
   "metadata": {},
   "outputs": [
    {
     "data": {
      "text/plain": [
       "array([[0.15594714, 0.83593522, 0.55943851],\n",
       "       [0.24105356, 0.44424093, 0.34134939]])"
      ]
     },
     "execution_count": 4,
     "metadata": {},
     "output_type": "execute_result"
    }
   ],
   "source": [
    "array2 = np.random.rand(2,3)\n",
    "array2"
   ]
  },
  {
   "cell_type": "code",
   "execution_count": 5,
   "metadata": {},
   "outputs": [
    {
     "data": {
      "text/plain": [
       "array([[[0.34411632, 0.80518516, 0.5508514 , 0.37510925, 0.83437406],\n",
       "        [0.2201531 , 0.51316506, 0.67876969, 0.00126677, 0.03359639],\n",
       "        [0.99884223, 0.84923485, 0.11428617, 0.73598833, 0.42793155]],\n",
       "\n",
       "       [[0.07340349, 0.68457847, 0.71006196, 0.66208889, 0.1825129 ],\n",
       "        [0.6681463 , 0.27747975, 0.70794892, 0.79122291, 0.34778823],\n",
       "        [0.04797172, 0.93608393, 0.964382  , 0.5585787 , 0.06554305]]])"
      ]
     },
     "execution_count": 5,
     "metadata": {},
     "output_type": "execute_result"
    }
   ],
   "source": [
    "array3 = np.random.random_sample((2,3,5))\n",
    "array3"
   ]
  },
  {
   "cell_type": "markdown",
   "metadata": {},
   "source": [
    "### 2. Chequead las propiedades básicas de cada array que os hayáis creado. Usad en una función que nos devuelva las propiedades de una array que le pasemos."
   ]
  },
  {
   "cell_type": "code",
   "execution_count": 6,
   "metadata": {},
   "outputs": [],
   "source": [
    "def propiedades(array):\n",
    "    lista_propiedades = []\n",
    "    lista_propiedades.append(array.shape)\n",
    "    lista_propiedades.append(array.size)\n",
    "    lista_propiedades.append(array.ndim)\n",
    "    lista_propiedades.append(array.dtype)\n",
    "    return lista_propiedades"
   ]
  },
  {
   "cell_type": "code",
   "execution_count": 7,
   "metadata": {},
   "outputs": [
    {
     "name": "stdout",
     "output_type": "stream",
     "text": [
      "El orden de las propiedades descritas, es forma, tamaño, dimension y tipo: [(8,), 8, 1, dtype('int64')]\n"
     ]
    }
   ],
   "source": [
    "print(f\"El orden de las propiedades descritas, es forma, tamaño, dimension y tipo:\", propiedades(array1))"
   ]
  },
  {
   "cell_type": "code",
   "execution_count": 8,
   "metadata": {},
   "outputs": [
    {
     "name": "stdout",
     "output_type": "stream",
     "text": [
      "El orden de las propiedades descritas, es forma, tamaño, dimension y tipo: [(2, 3), 6, 2, dtype('float64')]\n"
     ]
    }
   ],
   "source": [
    "print(f\"El orden de las propiedades descritas, es forma, tamaño, dimension y tipo:\", propiedades(array2))"
   ]
  },
  {
   "cell_type": "code",
   "execution_count": 9,
   "metadata": {},
   "outputs": [
    {
     "name": "stdout",
     "output_type": "stream",
     "text": [
      "El orden de las propiedades descritas, es forma, tamaño, dimension y tipo: [(2, 3, 5), 30, 3, dtype('float64')]\n"
     ]
    }
   ],
   "source": [
    "print(f\"El orden de las propiedades descritas, es forma, tamaño, dimension y tipo:\", propiedades(array3))"
   ]
  },
  {
   "cell_type": "markdown",
   "metadata": {},
   "source": [
    "### 3. Cread una matriz identidad de dos dimensiones de 3 filas y 3 columnas."
   ]
  },
  {
   "cell_type": "code",
   "execution_count": 10,
   "metadata": {},
   "outputs": [
    {
     "data": {
      "text/plain": [
       "array([[1., 0., 0.],\n",
       "       [0., 1., 0.],\n",
       "       [0., 0., 1.]])"
      ]
     },
     "execution_count": 10,
     "metadata": {},
     "output_type": "execute_result"
    }
   ],
   "source": [
    "array4 = np.identity(3)\n",
    "array4"
   ]
  },
  {
   "cell_type": "code",
   "execution_count": 11,
   "metadata": {},
   "outputs": [
    {
     "name": "stdout",
     "output_type": "stream",
     "text": [
      "El orden de las propiedades descritas, es forma, tamaño, dimension y tipo: [(3, 3), 9, 2, dtype('float64')]\n"
     ]
    }
   ],
   "source": [
    "print(f\"El orden de las propiedades descritas, es forma, tamaño, dimension y tipo:\", propiedades(array4))"
   ]
  },
  {
   "cell_type": "markdown",
   "metadata": {},
   "source": [
    "### 4. Cread una matriz de tres dimensiones de unos igual a la martiz de tres dimensiones creada en el primer ejercicio."
   ]
  },
  {
   "cell_type": "code",
   "execution_count": 12,
   "metadata": {},
   "outputs": [
    {
     "data": {
      "text/plain": [
       "array([[[1., 1., 1., 1., 1.],\n",
       "        [1., 1., 1., 1., 1.],\n",
       "        [1., 1., 1., 1., 1.]],\n",
       "\n",
       "       [[1., 1., 1., 1., 1.],\n",
       "        [1., 1., 1., 1., 1.],\n",
       "        [1., 1., 1., 1., 1.]]])"
      ]
     },
     "execution_count": 12,
     "metadata": {},
     "output_type": "execute_result"
    }
   ],
   "source": [
    "array5  = np.ones_like(array3)\n",
    "array5"
   ]
  },
  {
   "cell_type": "markdown",
   "metadata": {},
   "source": [
    "### 5. Es el momento de hacer algunas operaciones entre arrays\n",
    "   \n",
    "¿Se puede sumar el array de dos dimensiones que creamos en el primer ejecicios a la matriz identidad? ¿Por qué?\n",
    "\n",
    "En caso de que no se puedan sumar, busca una solución para sumar una matriz identidad a otra. La solución puede ser crear un array nuevo.\n",
    "\n",
    "Multiplicad la matriz identidad por la nueva matriz que os creasteis en el ejercicio anterior.\n",
    "\n",
    "Dividid las dos matricess"
   ]
  },
  {
   "cell_type": "code",
   "execution_count": 13,
   "metadata": {},
   "outputs": [
    {
     "data": {
      "text/plain": [
       "array([[0.15594714, 0.83593522, 0.55943851],\n",
       "       [0.24105356, 0.44424093, 0.34134939]])"
      ]
     },
     "execution_count": 13,
     "metadata": {},
     "output_type": "execute_result"
    }
   ],
   "source": [
    "array2"
   ]
  },
  {
   "cell_type": "code",
   "execution_count": 14,
   "metadata": {},
   "outputs": [
    {
     "data": {
      "text/plain": [
       "array([[1., 0., 0.],\n",
       "       [0., 1., 0.],\n",
       "       [0., 0., 1.]])"
      ]
     },
     "execution_count": 14,
     "metadata": {},
     "output_type": "execute_result"
    }
   ],
   "source": [
    "array4"
   ]
  },
  {
   "cell_type": "code",
   "execution_count": 15,
   "metadata": {},
   "outputs": [
    {
     "name": "stdout",
     "output_type": "stream",
     "text": [
      "El motivo por el que no podemos sumar las dos arrays, es porque tienen forma distinta.\n",
      "(2, 3)\n",
      "(3, 3)\n"
     ]
    }
   ],
   "source": [
    "print(f\"El motivo por el que no podemos sumar las dos arrays, es porque tienen forma distinta.\")\n",
    "print(array2.shape)\n",
    "print(array4.shape)"
   ]
  },
  {
   "cell_type": "code",
   "execution_count": 16,
   "metadata": {},
   "outputs": [
    {
     "data": {
      "text/plain": [
       "array([[1., 0., 0.],\n",
       "       [0., 1., 0.],\n",
       "       [0., 0., 1.]])"
      ]
     },
     "execution_count": 16,
     "metadata": {},
     "output_type": "execute_result"
    }
   ],
   "source": [
    "array6 = np.eye(3,3)\n",
    "array6"
   ]
  },
  {
   "cell_type": "code",
   "execution_count": 17,
   "metadata": {},
   "outputs": [
    {
     "data": {
      "text/plain": [
       "array([[2., 0., 0.],\n",
       "       [0., 2., 0.],\n",
       "       [0., 0., 2.]])"
      ]
     },
     "execution_count": 17,
     "metadata": {},
     "output_type": "execute_result"
    }
   ],
   "source": [
    "array7 = np.add(array4,array6)\n",
    "array7"
   ]
  },
  {
   "cell_type": "code",
   "execution_count": 18,
   "metadata": {},
   "outputs": [
    {
     "data": {
      "text/plain": [
       "array([[2., 0., 0.],\n",
       "       [0., 2., 0.],\n",
       "       [0., 0., 2.]])"
      ]
     },
     "execution_count": 18,
     "metadata": {},
     "output_type": "execute_result"
    }
   ],
   "source": [
    "np.multiply(array7, array4)"
   ]
  },
  {
   "cell_type": "code",
   "execution_count": 19,
   "metadata": {},
   "outputs": [
    {
     "name": "stderr",
     "output_type": "stream",
     "text": [
      "/var/folders/q5/d6h10gfs1b33l8qy7mdmhspw0000gq/T/ipykernel_79790/261659766.py:1: RuntimeWarning: invalid value encountered in true_divide\n",
      "  np.divide(array7, array4)\n"
     ]
    },
    {
     "data": {
      "text/plain": [
       "array([[ 2., nan, nan],\n",
       "       [nan,  2., nan],\n",
       "       [nan, nan,  2.]])"
      ]
     },
     "execution_count": 19,
     "metadata": {},
     "output_type": "execute_result"
    }
   ],
   "source": [
    "np.divide(array7, array4)"
   ]
  }
 ],
 "metadata": {
  "kernelspec": {
   "display_name": "Python 3.9.7 ('base')",
   "language": "python",
   "name": "python3"
  },
  "language_info": {
   "codemirror_mode": {
    "name": "ipython",
    "version": 3
   },
   "file_extension": ".py",
   "mimetype": "text/x-python",
   "name": "python",
   "nbconvert_exporter": "python",
   "pygments_lexer": "ipython3",
   "version": "3.9.7"
  },
  "orig_nbformat": 4,
  "vscode": {
   "interpreter": {
    "hash": "a132548e790cb25f951c67ed157520233be95043d6eb3836371ed4d98e90df31"
   }
  }
 },
 "nbformat": 4,
 "nbformat_minor": 2
}

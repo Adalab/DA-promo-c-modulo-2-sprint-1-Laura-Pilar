{
 "cells": [
  {
   "cell_type": "markdown",
   "metadata": {},
   "source": [
    "# PANDAS VI: Gropby"
   ]
  },
  {
   "cell_type": "markdown",
   "metadata": {},
   "source": [
    "Es el momento de poner en práctica los groupby de pandas. Para esto vamos a trabajar con el csv creado en el ejercicio de pair programming anterior.\n",
    "\n",
    "##### El objetivo de este ejercicio es agrupar los datos para contestar las siguientes preguntas:"
   ]
  },
  {
   "cell_type": "markdown",
   "metadata": {},
   "source": [
    "### 1. ¿Cuántos ataques hubo por país? Devuelve un DataFrame.\n",
    "📌 NOTA: Ordena los resultados de mayor a menor. \n",
    "\n",
    "Esto todavía no lo hemos visto, pero un DataFrame lo podemos ordenar con .sort_values(). Hay más información sobre esto en el gitbook."
   ]
  },
  {
   "cell_type": "code",
   "execution_count": null,
   "metadata": {},
   "outputs": [],
   "source": []
  },
  {
   "cell_type": "markdown",
   "metadata": {},
   "source": [
    "### 2. ¿Cuántos ataques ha habido por año? \n",
    "\n",
    "Devuelve un DataFrame. De nuevo ordena los resultados de mayor a menor."
   ]
  },
  {
   "cell_type": "code",
   "execution_count": null,
   "metadata": {},
   "outputs": [],
   "source": []
  },
  {
   "cell_type": "markdown",
   "metadata": {},
   "source": [
    "### 3. ¿Cuántos ataques hubo por año y sexo? \n",
    "Devolved un DataFrame solo del año 2000 en adelante."
   ]
  },
  {
   "cell_type": "code",
   "execution_count": null,
   "metadata": {},
   "outputs": [],
   "source": []
  },
  {
   "cell_type": "markdown",
   "metadata": {},
   "source": [
    "### 4. Primero extraed solo las filas que correspondan a USA, AUSTRALIA y SOUTH AFRICA. \n",
    "¿Cuántos de los ataques fueron letales por sexo? Devuelve un DataFrame."
   ]
  },
  {
   "cell_type": "code",
   "execution_count": null,
   "metadata": {},
   "outputs": [],
   "source": []
  },
  {
   "cell_type": "markdown",
   "metadata": {},
   "source": [
    "### 5. ¿En qué país hubo más ataques?\n",
    "Usando el DataFrame creado en el ejercicio anterior. "
   ]
  },
  {
   "cell_type": "code",
   "execution_count": null,
   "metadata": {},
   "outputs": [],
   "source": []
  },
  {
   "cell_type": "markdown",
   "metadata": {},
   "source": [
    "### 6. ¿Qué y cuántos tipos de ataques hubo por país?"
   ]
  },
  {
   "cell_type": "code",
   "execution_count": null,
   "metadata": {},
   "outputs": [],
   "source": []
  }
 ],
 "metadata": {
  "language_info": {
   "name": "python"
  },
  "orig_nbformat": 4
 },
 "nbformat": 4,
 "nbformat_minor": 2
}

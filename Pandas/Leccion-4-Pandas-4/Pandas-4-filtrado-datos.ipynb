{
 "cells": [
  {
   "cell_type": "markdown",
   "metadata": {},
   "source": [
    "# PANDAS IV: Filtrado de datos"
   ]
  },
  {
   "cell_type": "markdown",
   "metadata": {},
   "source": [
    "Hoy seguiremos trabajando con el csv de ataques que exploramos ayer. Para eso, ayer guardasteis al final del pair programming al que le habíamos elimiando algunas columnas. Utilizad ese fichero.\n",
    "\n",
    "En la lección de hoy tendréis que ir contestando una serie de preguntas que os planteamos. Para ello tendréis que aplicar los conocimientos adquiridos en la clase invertida sobre como filtrar datos en el DataFrame y como reemplazar valores en el DataFrame.\n"
   ]
  },
  {
   "cell_type": "markdown",
   "metadata": {},
   "source": [
    "### 1. Cargad el csv que guardasteis ayer.\n",
    "\n",
    "Antes de seguir con las preguntas, este DataFrame está terriblemente sucio. En las próximas sesiones lo iremos limpiando. Para evitar posibles errores con los nulos vamos a eliminar todos los nulos del DataFrame.\n",
    "\n",
    "Para ello vamos a utilizar el método .dropna() de pandas. Tendréis que ejecutar la siguiente línea de código para eliminar los nulos del DataFrame y poder seguir haciendo el resto de los ejercicios. ¿Cuántas filas se han eliminado con esta línea de código?"
   ]
  },
  {
   "cell_type": "code",
   "execution_count": null,
   "metadata": {},
   "outputs": [],
   "source": [
    "df.dropna(inplace = True)"
   ]
  },
  {
   "cell_type": "code",
   "execution_count": null,
   "metadata": {},
   "outputs": [],
   "source": []
  },
  {
   "cell_type": "markdown",
   "metadata": {},
   "source": [
    "### 2. ¿Cuál es el número de ataques que se han producido en Estados Unidos?"
   ]
  },
  {
   "cell_type": "code",
   "execution_count": null,
   "metadata": {},
   "outputs": [],
   "source": []
  },
  {
   "cell_type": "markdown",
   "metadata": {},
   "source": [
    "### 3. ¿Y en España?"
   ]
  },
  {
   "cell_type": "code",
   "execution_count": null,
   "metadata": {},
   "outputs": [],
   "source": []
  },
  {
   "cell_type": "markdown",
   "metadata": {},
   "source": [
    "- ¿En qué regiones se han producido los ataques (columna location)?\n"
   ]
  },
  {
   "cell_type": "code",
   "execution_count": null,
   "metadata": {},
   "outputs": [],
   "source": []
  },
  {
   "cell_type": "markdown",
   "metadata": {},
   "source": [
    "- ¿Cuántos ataques se han producido en cada área (columna area)?"
   ]
  },
  {
   "cell_type": "code",
   "execution_count": null,
   "metadata": {},
   "outputs": [],
   "source": []
  },
  {
   "cell_type": "markdown",
   "metadata": {},
   "source": [
    "### 4. Extraed un DataFrame nuevo con los ataques que se han producido en Australia y Estados Unidos. \n",
    "\n",
    "📌 Nota: Este ejercicio se puede resolver usando dos condiciones de filtrado o usando el método isin(). \n",
    "Hacedlo con ambas herramientas."
   ]
  },
  {
   "cell_type": "code",
   "execution_count": null,
   "metadata": {},
   "outputs": [],
   "source": []
  },
  {
   "cell_type": "code",
   "execution_count": null,
   "metadata": {},
   "outputs": [],
   "source": []
  },
  {
   "cell_type": "markdown",
   "metadata": {},
   "source": [
    "- ¿Cuántos ataques se han producido en cada país?"
   ]
  },
  {
   "cell_type": "code",
   "execution_count": null,
   "metadata": {},
   "outputs": [],
   "source": []
  },
  {
   "cell_type": "markdown",
   "metadata": {},
   "source": [
    "- ¿Ha habido ataques en Australia a gente que estuviera remando (lo encontrareis como Paddling en el DataFrame en la columna activity)?"
   ]
  },
  {
   "cell_type": "code",
   "execution_count": null,
   "metadata": {},
   "outputs": [],
   "source": []
  },
  {
   "cell_type": "markdown",
   "metadata": {},
   "source": [
    "- ¿Cuántos ataques se han producido en Australia antes del 2000?"
   ]
  },
  {
   "cell_type": "code",
   "execution_count": null,
   "metadata": {},
   "outputs": [],
   "source": []
  },
  {
   "cell_type": "markdown",
   "metadata": {},
   "source": [
    "- ¿Y después del 2000?"
   ]
  },
  {
   "cell_type": "code",
   "execution_count": null,
   "metadata": {},
   "outputs": [],
   "source": []
  },
  {
   "cell_type": "markdown",
   "metadata": {},
   "source": [
    "### 5. Extraed unicamente los ataques a mujeres."
   ]
  },
  {
   "cell_type": "code",
   "execution_count": null,
   "metadata": {},
   "outputs": [],
   "source": []
  },
  {
   "cell_type": "markdown",
   "metadata": {},
   "source": [
    "### 6. ¿Cuántas mujeres fueron atacadas en España?"
   ]
  },
  {
   "cell_type": "code",
   "execution_count": null,
   "metadata": {},
   "outputs": [],
   "source": []
  },
  {
   "cell_type": "markdown",
   "metadata": {},
   "source": [
    "### 7. Extraed los ataques que se hayan producido en el año 2000, 1997 y 2006. \n",
    "Utilizad el método isin() para resolver este ejercicio."
   ]
  },
  {
   "cell_type": "code",
   "execution_count": null,
   "metadata": {},
   "outputs": [],
   "source": []
  },
  {
   "cell_type": "markdown",
   "metadata": {},
   "source": [
    "### 8. Si extraemos los valores únicos de la columna species nos podemos dar cuenta que está un poco sucia y extraer informacion útil de la misma se puede convertir en algo difícil. \n",
    "\n",
    "En este ejercicio tendréis que extraer los ataques que han ocurrido por tiburón blanco (lo encontraremos en la columna species como algo que contenga white o White). Usad el método str.contains() para resolver este ejercicio."
   ]
  },
  {
   "cell_type": "code",
   "execution_count": null,
   "metadata": {},
   "outputs": [],
   "source": []
  },
  {
   "cell_type": "markdown",
   "metadata": {},
   "source": [
    "### 9. Extraed ahora los ataques por tiburón blanco o tigre. \n",
    "Utilizad el método str.contains() para resolver este ejercicio."
   ]
  },
  {
   "cell_type": "code",
   "execution_count": null,
   "metadata": {},
   "outputs": [],
   "source": []
  },
  {
   "cell_type": "markdown",
   "metadata": {},
   "source": [
    "### 10. Utilizando la columna de year cread una nueva columna llamada siglo que tiene siglo-XX o siglo-XXI. \n",
    "Donde el año sea menor que 2000 pondremos siglo-XX y el resto de los años siglo-XXI."
   ]
  },
  {
   "cell_type": "code",
   "execution_count": null,
   "metadata": {},
   "outputs": [],
   "source": []
  },
  {
   "cell_type": "markdown",
   "metadata": {},
   "source": [
    "### 11. Guardad como un archivo csv nuevo. Lo usaremos en el pair programming de mañana."
   ]
  },
  {
   "cell_type": "code",
   "execution_count": null,
   "metadata": {},
   "outputs": [],
   "source": []
  }
 ],
 "metadata": {
  "kernelspec": {
   "display_name": "Python 3.9.7 ('base')",
   "language": "python",
   "name": "python3"
  },
  "language_info": {
   "name": "python",
   "version": "3.9.7"
  },
  "orig_nbformat": 4,
  "vscode": {
   "interpreter": {
    "hash": "a132548e790cb25f951c67ed157520233be95043d6eb3836371ed4d98e90df31"
   }
  }
 },
 "nbformat": 4,
 "nbformat_minor": 2
}
